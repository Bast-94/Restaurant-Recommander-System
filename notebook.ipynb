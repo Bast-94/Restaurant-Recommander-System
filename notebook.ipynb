{
 "cells": [
  {
   "attachments": {},
   "cell_type": "markdown",
   "metadata": {},
   "source": [
    "# Final Project: Restaurant Recommander System"
   ]
  },
  {
   "attachments": {},
   "cell_type": "markdown",
   "metadata": {},
   "source": [
    "## Imports"
   ]
  },
  {
   "cell_type": "code",
   "execution_count": 12,
   "metadata": {},
   "outputs": [],
   "source": [
    "import pandas as pd\n",
    "import numpy as np\n",
    "import yaml\n",
    "import os "
   ]
  },
  {
   "cell_type": "code",
   "execution_count": 11,
   "metadata": {},
   "outputs": [],
   "source": [
    "config_file = open('config.yml','r')\n",
    "config = yaml.load(config_file,Loader=yaml.FullLoader)\n",
    "DATA_DIRECTORY = config['DATA_DIRECTORY']"
   ]
  },
  {
   "cell_type": "code",
   "execution_count": 20,
   "metadata": {},
   "outputs": [
    {
     "name": "stderr",
     "output_type": "stream",
     "text": [
      "/tmp/ipykernel_2379/4060965218.py:1: DtypeWarning: Columns (15,16,18,19,20) have mixed types. Specify dtype option on import or set low_memory=False.\n",
      "  order_df = pd.read_csv(os.path.join(DATA_DIRECTORY,'orders.csv'))\n"
     ]
    }
   ],
   "source": [
    "order_df = pd.read_csv(os.path.join(DATA_DIRECTORY,'orders.csv'))\n",
    "vendors_df = pd.read_csv(os.path.join(DATA_DIRECTORY,'vendors.csv'))\n",
    "train_customer_df = pd.read_csv(os.path.join(DATA_DIRECTORY,'train_customers.csv'))\n",
    "train_locations_df = pd.read_csv(os.path.join(DATA_DIRECTORY,'train_locations.csv'))\n",
    "test_customer_df = pd.read_csv(os.path.join(DATA_DIRECTORY,'test_customers.csv'))\n",
    "test_locations_df = pd.read_csv(os.path.join(DATA_DIRECTORY,'test_locations.csv'))"
   ]
  },
  {
   "cell_type": "code",
   "execution_count": null,
   "metadata": {},
   "outputs": [],
   "source": []
  }
 ],
 "metadata": {
  "kernelspec": {
   "display_name": "Python 3",
   "language": "python",
   "name": "python3"
  },
  "language_info": {
   "codemirror_mode": {
    "name": "ipython",
    "version": 3
   },
   "file_extension": ".py",
   "mimetype": "text/x-python",
   "name": "python",
   "nbconvert_exporter": "python",
   "pygments_lexer": "ipython3",
   "version": "3.10.6"
  },
  "orig_nbformat": 4
 },
 "nbformat": 4,
 "nbformat_minor": 2
}
