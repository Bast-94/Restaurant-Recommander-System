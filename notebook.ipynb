{
 "cells": [
  {
   "attachments": {},
   "cell_type": "markdown",
   "metadata": {},
   "source": [
    "# Final Project: Restaurant Recommander System"
   ]
  },
  {
   "attachments": {},
   "cell_type": "markdown",
   "metadata": {},
   "source": [
    "## Imports"
   ]
  },
  {
   "cell_type": "code",
   "execution_count": 163,
   "metadata": {},
   "outputs": [],
   "source": [
    "import pandas as pd\n",
    "import numpy as np\n",
    "import yaml\n",
    "import os\n",
    "import matplotlib.pyplot as plt\n",
    "import plotly.express as px\n",
    "from sklearn.model_selection import train_test_split\n",
    "from scipy.sparse import coo_matrix\n",
    "from scipy.sparse.linalg import svds\n",
    "from sklearn.metrics import f1_score\n",
    "from sklearn.cluster import KMeans\n",
    "from sklearn.neighbors import KNeighborsClassifier\n",
    "from pyspark.sql import SparkSession\n",
    "from pyspark.sql.functions import col, lit\n",
    "from pyspark.sql.functions import concat\n",
    "from pyspark.ml import Pipeline\n",
    "from pyspark.ml.feature import StringIndexer\n",
    "from pyspark.ml.evaluation import RegressionEvaluator\n",
    "from pyspark.ml.recommendation import ALS"
   ]
  },
  {
   "cell_type": "code",
   "execution_count": 103,
   "metadata": {},
   "outputs": [],
   "source": [
    "config_file = open(\"config.yml\", \"r\")\n",
    "config = yaml.load(config_file, Loader=yaml.FullLoader)\n",
    "DATA_DIRECTORY = config[\"DATA_DIRECTORY\"]"
   ]
  },
  {
   "cell_type": "code",
   "execution_count": 104,
   "metadata": {},
   "outputs": [],
   "source": [
    "spark = SparkSession.builder.appName(\"ALSMatrixFactorisation\").getOrCreate()"
   ]
  },
  {
   "attachments": {},
   "cell_type": "markdown",
   "metadata": {},
   "source": [
    "## Chargement des données"
   ]
  },
  {
   "cell_type": "code",
   "execution_count": 105,
   "metadata": {},
   "outputs": [
    {
     "name": "stdout",
     "output_type": "stream",
     "text": [
      "+--------------+-----------+----------+-----------+------------+----------+----------------------+------------------------------+-----------+--------+-------------+-------------+----------------+---------------+-------------------+-------------------+--------------------+---------------------+--------------+--------------+-------------------+---------+-------------------+---------------+-------------+----------------------+\n",
      "|akeed_order_id|customer_id|item_count|grand_total|payment_mode|promo_code|vendor_discount_amount|promo_code_discount_percentage|is_favorite|is_rated|vendor_rating|driver_rating|deliverydistance|preparationtime|      delivery_time|order_accepted_time|driver_accepted_time|ready_for_pickup_time|picked_up_time|delivered_time|      delivery_date|vendor_id|         created_at|LOCATION_NUMBER|LOCATION_TYPE|CID X LOC_NUM X VENDOR|\n",
      "+--------------+-----------+----------+-----------+------------+----------+----------------------+------------------------------+-----------+--------+-------------+-------------+----------------+---------------+-------------------+-------------------+--------------------+---------------------+--------------+--------------+-------------------+---------+-------------------+---------------+-------------+----------------------+\n",
      "|      163238.0|    92PEE24|       1.0|        7.6|           2|      null|                   0.0|                          null|       null|      No|         null|          0.0|             0.0|           null|               null|               null|                null|                 null|          null|          null|2019-07-31 05:30:00|      105|2019-08-01 05:30:16|              0|         null|     92PEE24 X 0 X 105|\n",
      "|      163240.0|    QS68UD8|       1.0|        8.7|           1|      null|                   0.0|                          null|       null|      No|         null|          0.0|             0.0|           null|               null|               null|                null|                 null|          null|          null|2019-07-31 05:30:00|      294|2019-08-01 05:31:10|              0|         Work|     QS68UD8 X 0 X 294|\n",
      "|      163241.0|    MB7VY5F|       2.0|       14.4|           1|      null|                   0.0|                          null|       null|      No|         null|          0.0|             0.0|           null|               null|               null|                null|                 null|          null|          null|2019-07-31 05:30:00|       83|2019-08-01 05:31:33|              0|         null|      MB7VY5F X 0 X 83|\n",
      "|      163244.0|    KDJ951Y|       1.0|        7.1|           1|      null|                   0.0|                          null|       null|      No|         null|          0.0|             0.0|           null|2019-08-01 04:03:00|               null|                null|                 null|          null|          null|2019-07-31 05:30:00|       90|2019-08-01 05:34:54|              0|         Home|      KDJ951Y X 0 X 90|\n",
      "|      163245.0|    BAL0RVT|       4.0|       27.2|           1|      null|                   0.0|                          null|       null|      No|         null|          0.0|             0.0|           null|               null|               null|                null|                 null|          null|          null|2019-07-31 05:30:00|       83|2019-08-01 05:35:51|              0|         Work|      BAL0RVT X 0 X 83|\n",
      "|      163246.0|    U263OCD|       3.0|       18.2|           2|      null|                   0.0|                          null|       null|      No|         null|          0.0|             0.0|           null|               null|               null|                null|                 null|          null|          null|2019-07-31 05:30:00|       83|2019-08-01 05:37:05|              0|         Work|      U263OCD X 0 X 83|\n",
      "|      163247.0|    I9DNSMJ|       2.0|       14.4|           1|      null|                   0.0|                          null|       null|      No|         null|          0.0|             0.0|           null|               null|               null|                null|                 null|          null|          null|2019-07-31 05:30:00|      105|2019-08-01 05:37:17|              0|         Work|     I9DNSMJ X 0 X 105|\n",
      "|      163248.0|    I9DNSMJ|       2.0|       14.4|           1|      null|                   0.0|                          null|       null|      No|         null|          0.0|             0.0|           null|               null|               null|                null|                 null|          null|          null|2019-07-31 05:30:00|      105|2019-08-01 05:37:23|              0|         Work|     I9DNSMJ X 0 X 105|\n",
      "|      163250.0|    QYXXJCF|       2.0|        9.2|           1|      null|                   0.0|                          null|       null|      No|         null|          0.0|             0.0|           null|               null|               null|                null|                 null|          null|          null|2019-07-31 05:30:00|       78|2019-08-01 05:38:12|              0|        Other|      QYXXJCF X 0 X 78|\n",
      "|      163251.0|    52ZNRWH|       5.0|       17.1|           2|      null|                   0.0|                          null|       null|      No|         null|          0.0|             0.0|           null|2019-08-01 04:08:00|               null|                null|                 null|          null|          null|2019-07-31 05:30:00|       83|2019-08-01 05:40:06|              0|         Home|      52ZNRWH X 0 X 83|\n",
      "|      163252.0|    QQEWRHI|       1.0|        8.7|           1|      null|                   0.0|                          null|       null|      No|         null|          0.0|             0.0|           null|               null|               null|                null|                 null|          null|          null|2019-07-31 05:30:00|       83|2019-08-01 05:40:12|              0|        Other|      QQEWRHI X 0 X 83|\n",
      "|      163253.0|    DRR8CO9|       2.0|       11.4|           1|      null|                   0.0|                          null|       null|      No|         null|          0.0|             0.0|           null|               null|               null|                null|                 null|          null|          null|2019-07-31 05:30:00|      154|2019-08-01 05:41:06|              0|         Work|     DRR8CO9 X 0 X 154|\n",
      "|      163254.0|    VJP7GIV|       1.0|        5.7|           1|      null|                   0.0|                          null|       null|      No|         null|          0.0|             0.0|           null|               null|               null|                null|                 null|          null|          null|2019-07-31 05:30:00|      193|2019-08-01 05:42:25|              0|         Home|     VJP7GIV X 0 X 193|\n",
      "|      163257.0|    DRR8CO9|       2.0|       11.4|           1|      null|                   0.0|                          null|       null|      No|         null|          0.0|             0.0|           null|               null|               null|                null|                 null|          null|          null|2019-07-31 05:30:00|      154|2019-08-01 05:48:47|              0|         Work|     DRR8CO9 X 0 X 154|\n",
      "|      163258.0|    6SJOL5B|       1.0|        3.8|           1|      null|                   0.0|                          null|       null|      No|         null|          0.0|             0.0|           null|               null|               null|                null|                 null|          null|          null|2019-07-31 05:30:00|      193|2019-08-01 05:49:19|              0|         Work|     6SJOL5B X 0 X 193|\n",
      "|      163261.0|    1HCWZ0H|       2.0|       15.0|           1|      null|                   0.0|                          null|       null|      No|         null|          0.0|             0.0|           null|               null|               null|                null|                 null|          null|          null|2019-07-31 05:30:00|       83|2019-08-01 05:55:20|              0|         Work|      1HCWZ0H X 0 X 83|\n",
      "|      163262.0|    G1MZ1IT|       2.0|       11.7|           1|      null|                   0.0|                          null|       null|      No|         null|          0.0|             0.0|           null|               null|               null|                null|                 null|          null|          null|2019-07-31 05:30:00|       83|2019-08-01 05:56:26|              0|        Other|      G1MZ1IT X 0 X 83|\n",
      "|      163263.0|    V27UTM4|       1.0|        4.3|           2|      null|                   0.0|                          null|       null|      No|         null|          0.0|             0.0|           null|               null|               null|                null|                 null|          null|          null|2019-07-31 05:30:00|       78|2019-08-01 05:58:49|              0|         null|      V27UTM4 X 0 X 78|\n",
      "|      163265.0|    0UW9NTR|       1.0|        4.6|           1|      null|                   0.0|                          null|       null|      No|         null|          0.0|             0.0|           null|               null|               null|                null|                 null|          null|          null|2019-07-31 05:30:00|       78|2019-08-01 06:03:59|              0|         null|      0UW9NTR X 0 X 78|\n",
      "|      163267.0|    TBOTOCJ|       1.0|        7.3|           1|      null|                   0.0|                          null|       null|      No|         null|          0.0|             0.0|           null|               null|               null|                null|                 null|          null|          null|2019-07-31 05:30:00|        4|2019-08-01 06:11:15|              0|         Home|       TBOTOCJ X 0 X 4|\n",
      "+--------------+-----------+----------+-----------+------------+----------+----------------------+------------------------------+-----------+--------+-------------+-------------+----------------+---------------+-------------------+-------------------+--------------------+---------------------+--------------+--------------+-------------------+---------+-------------------+---------------+-------------+----------------------+\n",
      "only showing top 20 rows\n",
      "\n"
     ]
    }
   ],
   "source": [
    "spark_train_order_df = spark.read.option(\"header\", True).csv(\n",
    "    os.path.join(DATA_DIRECTORY, \"orders.csv\")\n",
    ")\n",
    "spark_train_order_df.show()"
   ]
  },
  {
   "cell_type": "code",
   "execution_count": 106,
   "metadata": {},
   "outputs": [
    {
     "name": "stdout",
     "output_type": "stream",
     "text": [
      "+-----------+---------+-------------+---------------+-------------+\n",
      "|customer_id|vendor_id|vendor_rating|LOCATION_NUMBER|CID x LOC_NUM|\n",
      "+-----------+---------+-------------+---------------+-------------+\n",
      "|    OH64IO0|      310|          5.0|              0|  OH64IO0 X 0|\n",
      "|    FCPLE31|      157|          5.0|              0|  FCPLE31 X 0|\n",
      "|    WB681BO|      271|          4.0|              0|  WB681BO X 0|\n",
      "|    FS229TW|      157|          4.0|              0|  FS229TW X 0|\n",
      "|    3P9113W|       85|          5.0|              0|  3P9113W X 0|\n",
      "|    WB681BO|       90|          5.0|              0|  WB681BO X 0|\n",
      "|    AA31G37|       85|          5.0|              0|  AA31G37 X 0|\n",
      "|    E4ZWBIY|       83|          5.0|              0|  E4ZWBIY X 0|\n",
      "|    Y8OGZS1|      196|          2.0|              0|  Y8OGZS1 X 0|\n",
      "|    I3DAUFL|      300|          1.0|              0|  I3DAUFL X 0|\n",
      "|    8BZR1IV|       33|          5.0|              0|  8BZR1IV X 0|\n",
      "|    5O4E3Z3|       92|          4.0|              0|  5O4E3Z3 X 0|\n",
      "|    8PKVPJV|      195|          5.0|              0|  8PKVPJV X 0|\n",
      "|    BNKRJ0E|      193|          5.0|              0|  BNKRJ0E X 0|\n",
      "|    A9EZUO7|      113|          5.0|              0|  A9EZUO7 X 0|\n",
      "|    BLDGNI4|      106|          3.0|              0|  BLDGNI4 X 0|\n",
      "|    CV7TAV2|       75|          5.0|              0|  CV7TAV2 X 0|\n",
      "|    FWNWSYH|       81|          5.0|              0|  FWNWSYH X 0|\n",
      "|    10A2LDQ|      148|          5.0|              0|  10A2LDQ X 0|\n",
      "|    QSBN2T0|      113|          5.0|              0|  QSBN2T0 X 0|\n",
      "+-----------+---------+-------------+---------------+-------------+\n",
      "only showing top 20 rows\n",
      "\n"
     ]
    }
   ],
   "source": [
    "CUSTOMER_KEY = \"CID x LOC_NUM\"\n",
    "df_ratings = spark_train_order_df.withColumn(\n",
    "    \"CID x LOC_NUM\",\n",
    "    concat(\n",
    "        spark_train_order_df[\"customer_id\"],\n",
    "        lit(\" X \"),\n",
    "        spark_train_order_df[\"LOCATION_NUMBER\"],\n",
    "    ),\n",
    ")\n",
    "df_ratings = df_ratings.select(\n",
    "    \"customer_id\", \"vendor_id\", \"vendor_rating\", \"LOCATION_NUMBER\", \"CID x LOC_NUM\"\n",
    ").where(col(\"is_rated\") == \"Yes\")\n",
    "\n",
    "df_ratings.show()"
   ]
  },
  {
   "cell_type": "code",
   "execution_count": 107,
   "metadata": {},
   "outputs": [
    {
     "data": {
      "text/plain": [
       "20109"
      ]
     },
     "execution_count": 107,
     "metadata": {},
     "output_type": "execute_result"
    }
   ],
   "source": [
    "df_ratings.count()"
   ]
  },
  {
   "cell_type": "code",
   "execution_count": 108,
   "metadata": {},
   "outputs": [
    {
     "name": "stdout",
     "output_type": "stream",
     "text": [
      "+-----------+---------+-------------+---------------+-------------+---------------+-----------------+-------------------+---------------------+\n",
      "|customer_id|vendor_id|vendor_rating|LOCATION_NUMBER|CID x LOC_NUM|vendor_id_index|customer_id_index|CID x LOC_NUM_index|LOCATION_NUMBER_index|\n",
      "+-----------+---------+-------------+---------------+-------------+---------------+-----------------+-------------------+---------------------+\n",
      "|    OH64IO0|      310|          5.0|              0|  OH64IO0 X 0|           30.0|           6380.0|             7444.0|                  0.0|\n",
      "|    FCPLE31|      157|          5.0|              0|  FCPLE31 X 0|           31.0|           5302.0|             5957.0|                  0.0|\n",
      "|    WB681BO|      271|          4.0|              0|  WB681BO X 0|           71.0|           3354.0|             3331.0|                  0.0|\n",
      "|    FS229TW|      157|          4.0|              0|  FS229TW X 0|           31.0|           2695.0|             6019.0|                  0.0|\n",
      "|    3P9113W|       85|          5.0|              0|  3P9113W X 0|           82.0|           3935.0|             4092.0|                  0.0|\n",
      "+-----------+---------+-------------+---------------+-------------+---------------+-----------------+-------------------+---------------------+\n",
      "only showing top 5 rows\n",
      "\n"
     ]
    }
   ],
   "source": [
    "indexer = [\n",
    "    StringIndexer(inputCol=column, outputCol=column + \"_index\")\n",
    "    for column in list(set(df_ratings.columns) - set([\"vendor_rating\"]))\n",
    "]\n",
    "\n",
    "pipeline = Pipeline(stages=indexer)\n",
    "transformed = pipeline.fit(df_ratings).transform(df_ratings)\n",
    "transformed = transformed.withColumn(\n",
    "    \"vendor_rating\", transformed[\"vendor_rating\"].cast(\"float\")\n",
    ")\n",
    "transformed = transformed.withColumn(\n",
    "    \"vendor_id_index\", transformed[\"vendor_id_index\"].cast(\"float\")\n",
    ")\n",
    "transformed.show(5)"
   ]
  },
  {
   "cell_type": "code",
   "execution_count": 109,
   "metadata": {},
   "outputs": [],
   "source": [
    "(training, validation) = transformed.randomSplit([0.8, 0.2], seed=16)"
   ]
  },
  {
   "cell_type": "code",
   "execution_count": 110,
   "metadata": {},
   "outputs": [],
   "source": [
    "customer_index_key = f\"{CUSTOMER_KEY}_index\"\n",
    "als = ALS(\n",
    "    maxIter=15,\n",
    "    regParam=0.09,\n",
    "    rank=25,\n",
    "    userCol=customer_index_key,\n",
    "    itemCol=\"vendor_id_index\",\n",
    "    ratingCol=\"vendor_rating\",\n",
    "    coldStartStrategy=\"drop\",\n",
    "    nonnegative=True,\n",
    ")\n",
    "\n",
    "model = als.fit(training)"
   ]
  },
  {
   "cell_type": "code",
   "execution_count": 111,
   "metadata": {},
   "outputs": [
    {
     "name": "stderr",
     "output_type": "stream",
     "text": [
      "                                                                                \r"
     ]
    },
    {
     "name": "stdout",
     "output_type": "stream",
     "text": [
      "RMSE=1.2277909803242675\n"
     ]
    },
    {
     "name": "stderr",
     "output_type": "stream",
     "text": [
      "                                                                                \r"
     ]
    },
    {
     "name": "stdout",
     "output_type": "stream",
     "text": [
      "+-----------+---------+-------------+---------------+-------------+---------------+-----------------+-------------------+---------------------+----------+\n",
      "|customer_id|vendor_id|vendor_rating|LOCATION_NUMBER|CID x LOC_NUM|vendor_id_index|customer_id_index|CID x LOC_NUM_index|LOCATION_NUMBER_index|prediction|\n",
      "+-----------+---------+-------------+---------------+-------------+---------------+-----------------+-------------------+---------------------+----------+\n",
      "|    PO53F9X|      115|          5.0|              1|  PO53F9X X 1|           86.0|            170.0|              123.0|                  1.0| 5.4733167|\n",
      "|    ICN6274|      216|          5.0|              4|  ICN6274 X 4|           32.0|            283.0|              567.0|                  4.0| 5.1940565|\n",
      "|    E5GIQ6X|       90|          5.0|              0|  E5GIQ6X X 0|           27.0|            833.0|              711.0|                  0.0| 5.1843333|\n",
      "|    3CS6P25|      159|          5.0|              2|  3CS6P25 X 2|           10.0|            152.0|              389.0|                  2.0|  5.182019|\n",
      "|    JHLR9GG|      298|          5.0|              4|  JHLR9GG X 4|           38.0|             70.0|               47.0|                  4.0| 5.1087155|\n",
      "|    T1F5SV5|       92|          5.0|              3|  T1F5SV5 X 3|           26.0|             84.0|               50.0|                  3.0| 5.1017137|\n",
      "|    KZK4XF8|      188|          5.0|              3|  KZK4XF8 X 3|           41.0|             72.0|               48.0|                  3.0| 5.0546875|\n",
      "|    W4TMTEZ|       92|          5.0|              5|  W4TMTEZ X 5|           26.0|             20.0|              158.0|                  5.0|  5.042478|\n",
      "|    X9W8FDK|       90|          5.0|              0|  X9W8FDK X 0|           27.0|            463.0|              373.0|                  0.0|  5.033034|\n",
      "|    LH12F3R|      295|          5.0|              1|  LH12F3R X 1|           61.0|            101.0|               69.0|                  1.0|  5.031212|\n",
      "|    U31BNUR|      303|          5.0|              3|  U31BNUR X 3|           77.0|              5.0|               13.0|                  3.0| 5.0215774|\n",
      "|    K4TH4B4|      298|          5.0|              1|  K4TH4B4 X 1|           38.0|             81.0|               93.0|                  1.0|  5.017478|\n",
      "|    K4TH4B4|      298|          5.0|              1|  K4TH4B4 X 1|           38.0|             81.0|               93.0|                  1.0|  5.017478|\n",
      "|    PO53F9X|      401|          5.0|              1|  PO53F9X X 1|           49.0|            170.0|              123.0|                  1.0|  5.015631|\n",
      "|    PE6749L|      188|          5.0|              1|  PE6749L X 1|           41.0|            549.0|              593.0|                  1.0|  5.014504|\n",
      "|    LH12F3R|      159|          3.0|              1|  LH12F3R X 1|           10.0|            101.0|               69.0|                  1.0| 5.0138936|\n",
      "|    AECD3LL|      303|          5.0|              4|  AECD3LL X 4|           77.0|            224.0|              330.0|                  4.0|  5.011879|\n",
      "|    6ZATWUE|      243|          5.0|              0|  6ZATWUE X 0|           90.0|            114.0|              519.0|                  0.0|  5.007676|\n",
      "|    T3KF31M|      188|          5.0|              2|  T3KF31M X 2|           41.0|           1306.0|             1161.0|                  2.0|   4.99929|\n",
      "|    KZK4XF8|      298|          5.0|              3|  KZK4XF8 X 3|           38.0|             72.0|               48.0|                  3.0| 4.9982114|\n",
      "+-----------+---------+-------------+---------------+-------------+---------------+-----------------+-------------------+---------------------+----------+\n",
      "only showing top 20 rows\n",
      "\n"
     ]
    }
   ],
   "source": [
    "evaluator = RegressionEvaluator(\n",
    "    metricName=\"rmse\", labelCol=\"vendor_rating\", predictionCol=\"prediction\"\n",
    ")\n",
    "\n",
    "predictions = model.transform(validation)\n",
    "rmse = evaluator.evaluate(predictions)\n",
    "\n",
    "print(\"RMSE=\" + str(rmse))\n",
    "predictions.orderBy(col(\"prediction\").desc()).show()"
   ]
  },
  {
   "cell_type": "code",
   "execution_count": 112,
   "metadata": {},
   "outputs": [
    {
     "name": "stderr",
     "output_type": "stream",
     "text": [
      "                                                                                \r"
     ]
    },
    {
     "data": {
      "text/html": [
       "<div>\n",
       "<style scoped>\n",
       "    .dataframe tbody tr th:only-of-type {\n",
       "        vertical-align: middle;\n",
       "    }\n",
       "\n",
       "    .dataframe tbody tr th {\n",
       "        vertical-align: top;\n",
       "    }\n",
       "\n",
       "    .dataframe thead th {\n",
       "        text-align: right;\n",
       "    }\n",
       "</style>\n",
       "<table border=\"1\" class=\"dataframe\">\n",
       "  <thead>\n",
       "    <tr style=\"text-align: right;\">\n",
       "      <th></th>\n",
       "      <th>CID x LOC_NUM_index</th>\n",
       "      <th>recommendations</th>\n",
       "    </tr>\n",
       "  </thead>\n",
       "  <tbody>\n",
       "    <tr>\n",
       "      <th>0</th>\n",
       "      <td>26</td>\n",
       "      <td>[(15, 4.467200756072998), (6, 3.15623736381530...</td>\n",
       "    </tr>\n",
       "    <tr>\n",
       "      <th>1</th>\n",
       "      <td>27</td>\n",
       "      <td>[(78, 4.825118064880371), (77, 4.7193622589111...</td>\n",
       "    </tr>\n",
       "    <tr>\n",
       "      <th>2</th>\n",
       "      <td>28</td>\n",
       "      <td>[(95, 5.924435615539551), (77, 5.4620547294616...</td>\n",
       "    </tr>\n",
       "    <tr>\n",
       "      <th>3</th>\n",
       "      <td>31</td>\n",
       "      <td>[(68, 4.956910133361816), (96, 4.8654012680053...</td>\n",
       "    </tr>\n",
       "    <tr>\n",
       "      <th>4</th>\n",
       "      <td>34</td>\n",
       "      <td>[(95, 5.558813571929932), (77, 5.2261157035827...</td>\n",
       "    </tr>\n",
       "    <tr>\n",
       "      <th>...</th>\n",
       "      <td>...</td>\n",
       "      <td>...</td>\n",
       "    </tr>\n",
       "    <tr>\n",
       "      <th>8067</th>\n",
       "      <td>9244</td>\n",
       "      <td>[(46, 1.9638583660125732), (95, 1.708905458450...</td>\n",
       "    </tr>\n",
       "    <tr>\n",
       "      <th>8068</th>\n",
       "      <td>9250</td>\n",
       "      <td>[(59, 4.902221202850342), (90, 4.2612195014953...</td>\n",
       "    </tr>\n",
       "    <tr>\n",
       "      <th>8069</th>\n",
       "      <td>9261</td>\n",
       "      <td>[(90, 5.0758442878723145), (98, 5.028432846069...</td>\n",
       "    </tr>\n",
       "    <tr>\n",
       "      <th>8070</th>\n",
       "      <td>9266</td>\n",
       "      <td>[(95, 3.924290657043457), (0, 3.91345810890197...</td>\n",
       "    </tr>\n",
       "    <tr>\n",
       "      <th>8071</th>\n",
       "      <td>9308</td>\n",
       "      <td>[(22, 3.921128511428833), (90, 3.7986638545989...</td>\n",
       "    </tr>\n",
       "  </tbody>\n",
       "</table>\n",
       "<p>8072 rows × 2 columns</p>\n",
       "</div>"
      ],
      "text/plain": [
       "      CID x LOC_NUM_index                                    recommendations\n",
       "0                      26  [(15, 4.467200756072998), (6, 3.15623736381530...\n",
       "1                      27  [(78, 4.825118064880371), (77, 4.7193622589111...\n",
       "2                      28  [(95, 5.924435615539551), (77, 5.4620547294616...\n",
       "3                      31  [(68, 4.956910133361816), (96, 4.8654012680053...\n",
       "4                      34  [(95, 5.558813571929932), (77, 5.2261157035827...\n",
       "...                   ...                                                ...\n",
       "8067                 9244  [(46, 1.9638583660125732), (95, 1.708905458450...\n",
       "8068                 9250  [(59, 4.902221202850342), (90, 4.2612195014953...\n",
       "8069                 9261  [(90, 5.0758442878723145), (98, 5.028432846069...\n",
       "8070                 9266  [(95, 3.924290657043457), (0, 3.91345810890197...\n",
       "8071                 9308  [(22, 3.921128511428833), (90, 3.7986638545989...\n",
       "\n",
       "[8072 rows x 2 columns]"
      ]
     },
     "execution_count": 112,
     "metadata": {},
     "output_type": "execute_result"
    }
   ],
   "source": [
    "recs = model.recommendForAllUsers(20).toPandas()\n",
    "recs"
   ]
  },
  {
   "cell_type": "code",
   "execution_count": 113,
   "metadata": {},
   "outputs": [
    {
     "data": {
      "text/html": [
       "<div>\n",
       "<style scoped>\n",
       "    .dataframe tbody tr th:only-of-type {\n",
       "        vertical-align: middle;\n",
       "    }\n",
       "\n",
       "    .dataframe tbody tr th {\n",
       "        vertical-align: top;\n",
       "    }\n",
       "\n",
       "    .dataframe thead th {\n",
       "        text-align: right;\n",
       "    }\n",
       "</style>\n",
       "<table border=\"1\" class=\"dataframe\">\n",
       "  <thead>\n",
       "    <tr style=\"text-align: right;\">\n",
       "      <th></th>\n",
       "      <th>CID x LOC_NUM_index</th>\n",
       "      <th>recommendation</th>\n",
       "    </tr>\n",
       "  </thead>\n",
       "  <tbody>\n",
       "    <tr>\n",
       "      <th>0</th>\n",
       "      <td>26</td>\n",
       "      <td>(15, 4.467200756072998)</td>\n",
       "    </tr>\n",
       "    <tr>\n",
       "      <th>1</th>\n",
       "      <td>27</td>\n",
       "      <td>(78, 4.825118064880371)</td>\n",
       "    </tr>\n",
       "    <tr>\n",
       "      <th>2</th>\n",
       "      <td>28</td>\n",
       "      <td>(95, 5.924435615539551)</td>\n",
       "    </tr>\n",
       "    <tr>\n",
       "      <th>3</th>\n",
       "      <td>31</td>\n",
       "      <td>(68, 4.956910133361816)</td>\n",
       "    </tr>\n",
       "    <tr>\n",
       "      <th>4</th>\n",
       "      <td>34</td>\n",
       "      <td>(95, 5.558813571929932)</td>\n",
       "    </tr>\n",
       "  </tbody>\n",
       "</table>\n",
       "</div>"
      ],
      "text/plain": [
       "   CID x LOC_NUM_index           recommendation\n",
       "0                   26  (15, 4.467200756072998)\n",
       "1                   27  (78, 4.825118064880371)\n",
       "2                   28  (95, 5.924435615539551)\n",
       "3                   31  (68, 4.956910133361816)\n",
       "4                   34  (95, 5.558813571929932)"
      ]
     },
     "execution_count": 113,
     "metadata": {},
     "output_type": "execute_result"
    }
   ],
   "source": [
    "df_recs = (\n",
    "    recs.recommendations.apply(pd.Series)\n",
    "    .merge(recs, right_index=True, left_index=True)\n",
    "    .drop([\"recommendations\"], axis=1)\n",
    "    .melt(id_vars=[customer_index_key], value_name=\"recommendation\")\n",
    "    .drop(\"variable\", axis=1)\n",
    "    .dropna()\n",
    ")\n",
    "df_recs.head()"
   ]
  },
  {
   "cell_type": "code",
   "execution_count": 114,
   "metadata": {},
   "outputs": [],
   "source": [
    "df_recs = df_recs.sort_values(customer_index_key)\n",
    "df_recs = pd.concat(\n",
    "    [df_recs[\"recommendation\"].apply(pd.Series), df_recs[customer_index_key]], axis=1\n",
    ")"
   ]
  },
  {
   "cell_type": "code",
   "execution_count": 115,
   "metadata": {},
   "outputs": [],
   "source": [
    "df_recs.columns = [\n",
    "    \"vendor_id_index\",\n",
    "    \"rating\",\n",
    "    customer_index_key,\n",
    "]\n",
    "tmp = transformed.select(\n",
    "    transformed[CUSTOMER_KEY],\n",
    "    transformed[customer_index_key],\n",
    "    transformed[\"vendor_id\"],\n",
    "    transformed[\"vendor_id_index\"],\n",
    ")\n",
    "tmp = tmp.toPandas()"
   ]
  },
  {
   "cell_type": "code",
   "execution_count": 116,
   "metadata": {},
   "outputs": [],
   "source": [
    "dict1 = dict(zip(tmp[customer_index_key], tmp[CUSTOMER_KEY]))\n",
    "dict2 = dict(zip(tmp[\"vendor_id_index\"], tmp[\"vendor_id\"]))\n",
    "df_recs_copy = df_recs.copy()\n",
    "df_recs_copy.loc[:, CUSTOMER_KEY] = df_recs[customer_index_key].map(dict1)\n",
    "df_recs_copy.loc[:, \"vendor_id\"] = df_recs[\"vendor_id_index\"].map(dict2)\n",
    "df_recs_copy = df_recs_copy.sort_values(CUSTOMER_KEY)\n",
    "df_recs_copy.reset_index(drop=True, inplace=True)"
   ]
  },
  {
   "cell_type": "code",
   "execution_count": 117,
   "metadata": {},
   "outputs": [
    {
     "name": "stderr",
     "output_type": "stream",
     "text": [
      "/tmp/ipykernel_12679/1335006208.py:2: SettingWithCopyWarning: \n",
      "A value is trying to be set on a copy of a slice from a DataFrame.\n",
      "Try using .loc[row_indexer,col_indexer] = value instead\n",
      "\n",
      "See the caveats in the documentation: https://pandas.pydata.org/pandas-docs/stable/user_guide/indexing.html#returning-a-view-versus-a-copy\n",
      "  new[\"recommendations\"] = list(zip(new.vendor_id, new.rating))\n"
     ]
    },
    {
     "name": "stdout",
     "output_type": "stream",
     "text": [
      "     CID x LOC_NUM                                    recommendations\n",
      "0      00HWUU3 X 1  [(401, 4.2503814697265625), (13, 4.16069316864...\n",
      "1      00OT8JX X 3  [(250, 4.7334699630737305), (115, 4.8346729278...\n",
      "2      00OT8JX X 4  [(176, 4.80129337310791), (104, 4.807033538818...\n",
      "3      010DVV3 X 0  [(85, 3.5217103958129883), (271, 3.73131346702...\n",
      "4      018GT0H X 2  [(23, 4.056676864624023), (295, 3.930625677108...\n",
      "...            ...                                                ...\n",
      "8067   ZZJSJYC X 0  [(271, 5.021329879760742), (85, 5.007611751556...\n",
      "8068   ZZJX0AR X 0  [(265, 4.1821770668029785), (85, 4.12745428085...\n",
      "8069   ZZP5BHU X 0  [(23, 3.4059560298919678), (310, 3.37825155258...\n",
      "8070   ZZRJABJ X 2  [(82, 4.156928062438965), (115, 4.724563598632...\n",
      "8071   ZZY3N0D X 1  [(294, 5.369583606719971), (13, 5.132056236267...\n",
      "\n",
      "[8072 rows x 2 columns]\n"
     ]
    }
   ],
   "source": [
    "new = df_recs_copy[[CUSTOMER_KEY, \"vendor_id\", \"rating\"]]\n",
    "new[\"recommendations\"] = list(zip(new.vendor_id, new.rating))\n",
    "\n",
    "res = new[[CUSTOMER_KEY, \"recommendations\"]]"
   ]
  },
  {
   "cell_type": "code",
   "execution_count": 155,
   "metadata": {},
   "outputs": [],
   "source": [
    "recommandation_df = (\n",
    "    res[\"recommendations\"].groupby([res[CUSTOMER_KEY]]).apply(list).reset_index()\n",
    ")\n",
    "recommandation_df[CUSTOMER_KEY] = recommandation_df[CUSTOMER_KEY].astype(str)\n",
    "recommandation_df = recommandation_df.explode(\"recommendations\")\n",
    "\n",
    "# On génère une dataframe sous forme de liste de couples vendeur/client avec la note calculée pour chacun\n",
    "recommandation_df[\"recommanded_vendor\"] = recommandation_df[\"recommendations\"].apply(\n",
    "    lambda x: x[0]\n",
    ")\n",
    "recommandation_df[\"rating\"] = recommandation_df[\"recommendations\"].apply(lambda x: x[1])\n",
    "recommandation_df = recommandation_df.drop([\"recommendations\"], axis=1)\n",
    "\n",
    "# On plafonne les notes calculées à 5\n",
    "recommandation_df[\"rating\"] = recommandation_df[\"rating\"].apply(\n",
    "    lambda x: 5 if x >= 5 else x\n",
    ")\n",
    "\n",
    "# On introduit le LOC NUM\n",
    "recommandation_df.sort_values(by=\"rating\", ascending=False).head()\n",
    "recommandation_df.describe()\n",
    "split_col = lambda s: s.split(\" X \")\n",
    "\n",
    "recommandation_df[\"CID x LOC_NUM\"] = recommandation_df[\"CID x LOC_NUM\"].apply(split_col)\n",
    "recommandation_df[\"customer_id\"] = recommandation_df[\"CID x LOC_NUM\"].apply(\n",
    "    lambda x: x[0]\n",
    ")\n",
    "recommandation_df[\"LOCATION_NUMBER\"] = recommandation_df[\"CID x LOC_NUM\"].apply(\n",
    "    lambda x: x[1]\n",
    ")\n",
    "\n",
    "\n",
    "recommandation_df = recommandation_df.drop(\"CID x LOC_NUM\", axis=1)\n",
    "recommandation_df = recommandation_df.reindex(\n",
    "    columns=[\"customer_id\", \"LOCATION_NUMBER\", \"recommanded_vendor\", \"rating\"]\n",
    ")\n",
    "recommandation_df.head()\n",
    "recommandation_df = recommandation_df.astype({\"LOCATION_NUMBER\": int})"
   ]
  },
  {
   "cell_type": "code",
   "execution_count": 156,
   "metadata": {},
   "outputs": [
    {
     "data": {
      "text/plain": [
       "customer_id            object\n",
       "LOCATION_NUMBER         int64\n",
       "recommanded_vendor     object\n",
       "rating                float64\n",
       "dtype: object"
      ]
     },
     "execution_count": 156,
     "metadata": {},
     "output_type": "execute_result"
    }
   ],
   "source": [
    "recommandation_df.to_csv(os.path.join(DATA_DIRECTORY, \"recommandation.csv\"))\n",
    "recommandation_df.dtypes"
   ]
  },
  {
   "attachments": {},
   "cell_type": "markdown",
   "metadata": {},
   "source": [
    "KMeans Clustering"
   ]
  },
  {
   "cell_type": "code",
   "execution_count": 157,
   "metadata": {},
   "outputs": [
    {
     "name": "stderr",
     "output_type": "stream",
     "text": [
      "/home/bastien/.local/lib/python3.10/site-packages/sklearn/cluster/_kmeans.py:870: FutureWarning: The default value of `n_init` will change from 10 to 'auto' in 1.4. Set the value of `n_init` explicitly to suppress the warning\n",
      "  warnings.warn(\n"
     ]
    },
    {
     "data": {
      "text/html": [
       "<div>\n",
       "<style scoped>\n",
       "    .dataframe tbody tr th:only-of-type {\n",
       "        vertical-align: middle;\n",
       "    }\n",
       "\n",
       "    .dataframe tbody tr th {\n",
       "        vertical-align: top;\n",
       "    }\n",
       "\n",
       "    .dataframe thead th {\n",
       "        text-align: right;\n",
       "    }\n",
       "</style>\n",
       "<table border=\"1\" class=\"dataframe\">\n",
       "  <thead>\n",
       "    <tr style=\"text-align: right;\">\n",
       "      <th></th>\n",
       "      <th>customer_id</th>\n",
       "      <th>LOCATION_NUMBER</th>\n",
       "      <th>location_type</th>\n",
       "      <th>latitude</th>\n",
       "      <th>longitude</th>\n",
       "      <th>cluster_label</th>\n",
       "    </tr>\n",
       "  </thead>\n",
       "  <tbody>\n",
       "    <tr>\n",
       "      <th>3</th>\n",
       "      <td>RU43CXC</td>\n",
       "      <td>0</td>\n",
       "      <td>Home</td>\n",
       "      <td>0.100853</td>\n",
       "      <td>0.438165</td>\n",
       "      <td>0</td>\n",
       "    </tr>\n",
       "    <tr>\n",
       "      <th>8</th>\n",
       "      <td>PB2B28D</td>\n",
       "      <td>0</td>\n",
       "      <td>Home</td>\n",
       "      <td>2.575605</td>\n",
       "      <td>0.708270</td>\n",
       "      <td>0</td>\n",
       "    </tr>\n",
       "    <tr>\n",
       "      <th>9</th>\n",
       "      <td>U9YKW1T</td>\n",
       "      <td>0</td>\n",
       "      <td>Work</td>\n",
       "      <td>0.100017</td>\n",
       "      <td>0.004357</td>\n",
       "      <td>0</td>\n",
       "    </tr>\n",
       "    <tr>\n",
       "      <th>14</th>\n",
       "      <td>4YWW8U8</td>\n",
       "      <td>1</td>\n",
       "      <td>Home</td>\n",
       "      <td>-0.575556</td>\n",
       "      <td>0.236555</td>\n",
       "      <td>0</td>\n",
       "    </tr>\n",
       "    <tr>\n",
       "      <th>15</th>\n",
       "      <td>393VD80</td>\n",
       "      <td>0</td>\n",
       "      <td>Home</td>\n",
       "      <td>-0.245396</td>\n",
       "      <td>-78.561908</td>\n",
       "      <td>1</td>\n",
       "    </tr>\n",
       "  </tbody>\n",
       "</table>\n",
       "</div>"
      ],
      "text/plain": [
       "   customer_id  LOCATION_NUMBER location_type  latitude  longitude  \\\n",
       "3      RU43CXC                0          Home  0.100853   0.438165   \n",
       "8      PB2B28D                0          Home  2.575605   0.708270   \n",
       "9      U9YKW1T                0          Work  0.100017   0.004357   \n",
       "14     4YWW8U8                1          Home -0.575556   0.236555   \n",
       "15     393VD80                0          Home -0.245396 -78.561908   \n",
       "\n",
       "    cluster_label  \n",
       "3               0  \n",
       "8               0  \n",
       "9               0  \n",
       "14              0  \n",
       "15              1  "
      ]
     },
     "execution_count": 157,
     "metadata": {},
     "output_type": "execute_result"
    }
   ],
   "source": [
    "# Charger votre dataframe avec les colonnes latitude et longitude (supposons que le dataframe s'appelle 'df')\n",
    "# df = ...\n",
    "\n",
    "# Sélectionner les colonnes latitude et longitude\n",
    "train_locations_df = pd.read_csv(os.path.join(DATA_DIRECTORY, \"train_locations.csv\"))\n",
    "train_locations_df = train_locations_df.dropna()\n",
    "data = train_locations_df[[\"latitude\", \"longitude\"]].copy()\n",
    "train_locations_df = train_locations_df.rename(\n",
    "    columns={\"location_number\": \"LOCATION_NUMBER\"}\n",
    ")\n",
    "# Spécifier le nombre de clusters que vous souhaitez obtenir\n",
    "k = 6\n",
    "\n",
    "# Créer une instance de l'algorithme K-Means\n",
    "kmeans = KMeans(n_clusters=k)\n",
    "\n",
    "# Appliquer l'algorithme aux données\n",
    "kmeans.fit(data)\n",
    "\n",
    "# Obtenir les étiquettes de cluster pour chaque point\n",
    "labels = kmeans.labels_\n",
    "\n",
    "# Ajouter les étiquettes de cluster à votre dataframe\n",
    "train_locations_df[\"cluster_label\"] = labels.copy()\n",
    "\n",
    "train_locations_df.head()"
   ]
  },
  {
   "cell_type": "code",
   "execution_count": 159,
   "metadata": {},
   "outputs": [
    {
     "data": {
      "text/html": [
       "<div>\n",
       "<style scoped>\n",
       "    .dataframe tbody tr th:only-of-type {\n",
       "        vertical-align: middle;\n",
       "    }\n",
       "\n",
       "    .dataframe tbody tr th {\n",
       "        vertical-align: top;\n",
       "    }\n",
       "\n",
       "    .dataframe thead th {\n",
       "        text-align: right;\n",
       "    }\n",
       "</style>\n",
       "<table border=\"1\" class=\"dataframe\">\n",
       "  <thead>\n",
       "    <tr style=\"text-align: right;\">\n",
       "      <th></th>\n",
       "      <th>customer_id</th>\n",
       "      <th>LOCATION_NUMBER</th>\n",
       "      <th>recommanded_vendor</th>\n",
       "      <th>rating</th>\n",
       "      <th>location_type</th>\n",
       "      <th>latitude</th>\n",
       "      <th>longitude</th>\n",
       "      <th>cluster_label</th>\n",
       "    </tr>\n",
       "  </thead>\n",
       "  <tbody>\n",
       "    <tr>\n",
       "      <th>0</th>\n",
       "      <td>00HWUU3</td>\n",
       "      <td>1</td>\n",
       "      <td>401</td>\n",
       "      <td>4.250381</td>\n",
       "      <td>Home</td>\n",
       "      <td>-1.117296</td>\n",
       "      <td>0.103313</td>\n",
       "      <td>0</td>\n",
       "    </tr>\n",
       "    <tr>\n",
       "      <th>1</th>\n",
       "      <td>00HWUU3</td>\n",
       "      <td>1</td>\n",
       "      <td>13</td>\n",
       "      <td>4.160693</td>\n",
       "      <td>Home</td>\n",
       "      <td>-1.117296</td>\n",
       "      <td>0.103313</td>\n",
       "      <td>0</td>\n",
       "    </tr>\n",
       "    <tr>\n",
       "      <th>2</th>\n",
       "      <td>00HWUU3</td>\n",
       "      <td>1</td>\n",
       "      <td>298</td>\n",
       "      <td>4.226124</td>\n",
       "      <td>Home</td>\n",
       "      <td>-1.117296</td>\n",
       "      <td>0.103313</td>\n",
       "      <td>0</td>\n",
       "    </tr>\n",
       "    <tr>\n",
       "      <th>3</th>\n",
       "      <td>00HWUU3</td>\n",
       "      <td>1</td>\n",
       "      <td>577</td>\n",
       "      <td>4.471765</td>\n",
       "      <td>Home</td>\n",
       "      <td>-1.117296</td>\n",
       "      <td>0.103313</td>\n",
       "      <td>0</td>\n",
       "    </tr>\n",
       "    <tr>\n",
       "      <th>4</th>\n",
       "      <td>00HWUU3</td>\n",
       "      <td>1</td>\n",
       "      <td>55</td>\n",
       "      <td>4.227818</td>\n",
       "      <td>Home</td>\n",
       "      <td>-1.117296</td>\n",
       "      <td>0.103313</td>\n",
       "      <td>0</td>\n",
       "    </tr>\n",
       "  </tbody>\n",
       "</table>\n",
       "</div>"
      ],
      "text/plain": [
       "  customer_id  LOCATION_NUMBER recommanded_vendor    rating location_type  \\\n",
       "0     00HWUU3                1                401  4.250381          Home   \n",
       "1     00HWUU3                1                 13  4.160693          Home   \n",
       "2     00HWUU3                1                298  4.226124          Home   \n",
       "3     00HWUU3                1                577  4.471765          Home   \n",
       "4     00HWUU3                1                 55  4.227818          Home   \n",
       "\n",
       "   latitude  longitude  cluster_label  \n",
       "0 -1.117296   0.103313              0  \n",
       "1 -1.117296   0.103313              0  \n",
       "2 -1.117296   0.103313              0  \n",
       "3 -1.117296   0.103313              0  \n",
       "4 -1.117296   0.103313              0  "
      ]
     },
     "execution_count": 159,
     "metadata": {},
     "output_type": "execute_result"
    }
   ],
   "source": [
    "recommandation_with_cluster = pd.merge(recommandation_df, train_locations_df)\n",
    "\n",
    "recommandation_with_cluster.head()"
   ]
  },
  {
   "cell_type": "code",
   "execution_count": 176,
   "metadata": {},
   "outputs": [
    {
     "data": {
      "text/html": [
       "<style>#sk-container-id-2 {color: black;background-color: white;}#sk-container-id-2 pre{padding: 0;}#sk-container-id-2 div.sk-toggleable {background-color: white;}#sk-container-id-2 label.sk-toggleable__label {cursor: pointer;display: block;width: 100%;margin-bottom: 0;padding: 0.3em;box-sizing: border-box;text-align: center;}#sk-container-id-2 label.sk-toggleable__label-arrow:before {content: \"▸\";float: left;margin-right: 0.25em;color: #696969;}#sk-container-id-2 label.sk-toggleable__label-arrow:hover:before {color: black;}#sk-container-id-2 div.sk-estimator:hover label.sk-toggleable__label-arrow:before {color: black;}#sk-container-id-2 div.sk-toggleable__content {max-height: 0;max-width: 0;overflow: hidden;text-align: left;background-color: #f0f8ff;}#sk-container-id-2 div.sk-toggleable__content pre {margin: 0.2em;color: black;border-radius: 0.25em;background-color: #f0f8ff;}#sk-container-id-2 input.sk-toggleable__control:checked~div.sk-toggleable__content {max-height: 200px;max-width: 100%;overflow: auto;}#sk-container-id-2 input.sk-toggleable__control:checked~label.sk-toggleable__label-arrow:before {content: \"▾\";}#sk-container-id-2 div.sk-estimator input.sk-toggleable__control:checked~label.sk-toggleable__label {background-color: #d4ebff;}#sk-container-id-2 div.sk-label input.sk-toggleable__control:checked~label.sk-toggleable__label {background-color: #d4ebff;}#sk-container-id-2 input.sk-hidden--visually {border: 0;clip: rect(1px 1px 1px 1px);clip: rect(1px, 1px, 1px, 1px);height: 1px;margin: -1px;overflow: hidden;padding: 0;position: absolute;width: 1px;}#sk-container-id-2 div.sk-estimator {font-family: monospace;background-color: #f0f8ff;border: 1px dotted black;border-radius: 0.25em;box-sizing: border-box;margin-bottom: 0.5em;}#sk-container-id-2 div.sk-estimator:hover {background-color: #d4ebff;}#sk-container-id-2 div.sk-parallel-item::after {content: \"\";width: 100%;border-bottom: 1px solid gray;flex-grow: 1;}#sk-container-id-2 div.sk-label:hover label.sk-toggleable__label {background-color: #d4ebff;}#sk-container-id-2 div.sk-serial::before {content: \"\";position: absolute;border-left: 1px solid gray;box-sizing: border-box;top: 0;bottom: 0;left: 50%;z-index: 0;}#sk-container-id-2 div.sk-serial {display: flex;flex-direction: column;align-items: center;background-color: white;padding-right: 0.2em;padding-left: 0.2em;position: relative;}#sk-container-id-2 div.sk-item {position: relative;z-index: 1;}#sk-container-id-2 div.sk-parallel {display: flex;align-items: stretch;justify-content: center;background-color: white;position: relative;}#sk-container-id-2 div.sk-item::before, #sk-container-id-2 div.sk-parallel-item::before {content: \"\";position: absolute;border-left: 1px solid gray;box-sizing: border-box;top: 0;bottom: 0;left: 50%;z-index: -1;}#sk-container-id-2 div.sk-parallel-item {display: flex;flex-direction: column;z-index: 1;position: relative;background-color: white;}#sk-container-id-2 div.sk-parallel-item:first-child::after {align-self: flex-end;width: 50%;}#sk-container-id-2 div.sk-parallel-item:last-child::after {align-self: flex-start;width: 50%;}#sk-container-id-2 div.sk-parallel-item:only-child::after {width: 0;}#sk-container-id-2 div.sk-dashed-wrapped {border: 1px dashed gray;margin: 0 0.4em 0.5em 0.4em;box-sizing: border-box;padding-bottom: 0.4em;background-color: white;}#sk-container-id-2 div.sk-label label {font-family: monospace;font-weight: bold;display: inline-block;line-height: 1.2em;}#sk-container-id-2 div.sk-label-container {text-align: center;}#sk-container-id-2 div.sk-container {/* jupyter's `normalize.less` sets `[hidden] { display: none; }` but bootstrap.min.css set `[hidden] { display: none !important; }` so we also need the `!important` here to be able to override the default hidden behavior on the sphinx rendered scikit-learn.org. See: https://github.com/scikit-learn/scikit-learn/issues/21755 */display: inline-block !important;position: relative;}#sk-container-id-2 div.sk-text-repr-fallback {display: none;}</style><div id=\"sk-container-id-2\" class=\"sk-top-container\"><div class=\"sk-text-repr-fallback\"><pre>KNeighborsClassifier(n_neighbors=6)</pre><b>In a Jupyter environment, please rerun this cell to show the HTML representation or trust the notebook. <br />On GitHub, the HTML representation is unable to render, please try loading this page with nbviewer.org.</b></div><div class=\"sk-container\" hidden><div class=\"sk-item\"><div class=\"sk-estimator sk-toggleable\"><input class=\"sk-toggleable__control sk-hidden--visually\" id=\"sk-estimator-id-2\" type=\"checkbox\" checked><label for=\"sk-estimator-id-2\" class=\"sk-toggleable__label sk-toggleable__label-arrow\">KNeighborsClassifier</label><div class=\"sk-toggleable__content\"><pre>KNeighborsClassifier(n_neighbors=6)</pre></div></div></div></div></div>"
      ],
      "text/plain": [
       "KNeighborsClassifier(n_neighbors=6)"
      ]
     },
     "execution_count": 176,
     "metadata": {},
     "output_type": "execute_result"
    }
   ],
   "source": [
    "X_train = recommandation_with_cluster[[\"latitude\", \"longitude\"]]\n",
    "y_train = recommandation_with_cluster[\"cluster_label\"]\n",
    "\n",
    "knn = KNeighborsClassifier(n_neighbors=k)\n",
    "knn.fit(X_train, y_train)"
   ]
  },
  {
   "cell_type": "code",
   "execution_count": 177,
   "metadata": {},
   "outputs": [],
   "source": [
    "vendors_df = pd.read_csv(os.path.join(DATA_DIRECTORY, \"vendors.csv\"))\n",
    "test_locations_df = pd.read_csv(os.path.join(DATA_DIRECTORY, \"test_locations.csv\"))\n",
    "vendors_df[\"cluster_label\"] = knn.predict(vendors_df[[\"latitude\", \"longitude\"]])"
   ]
  },
  {
   "cell_type": "code",
   "execution_count": 311,
   "metadata": {},
   "outputs": [
    {
     "data": {
      "text/html": [
       "<div>\n",
       "<style scoped>\n",
       "    .dataframe tbody tr th:only-of-type {\n",
       "        vertical-align: middle;\n",
       "    }\n",
       "\n",
       "    .dataframe tbody tr th {\n",
       "        vertical-align: top;\n",
       "    }\n",
       "\n",
       "    .dataframe thead th {\n",
       "        text-align: right;\n",
       "    }\n",
       "</style>\n",
       "<table border=\"1\" class=\"dataframe\">\n",
       "  <thead>\n",
       "    <tr style=\"text-align: right;\">\n",
       "      <th></th>\n",
       "      <th>customer_id</th>\n",
       "      <th>location_number</th>\n",
       "      <th>location_type</th>\n",
       "      <th>latitude</th>\n",
       "      <th>longitude</th>\n",
       "    </tr>\n",
       "  </thead>\n",
       "  <tbody>\n",
       "    <tr>\n",
       "      <th>1</th>\n",
       "      <td>0JP29SK</td>\n",
       "      <td>0</td>\n",
       "      <td>Home</td>\n",
       "      <td>0.278709</td>\n",
       "      <td>-78.623847</td>\n",
       "    </tr>\n",
       "    <tr>\n",
       "      <th>2</th>\n",
       "      <td>0JP29SK</td>\n",
       "      <td>1</td>\n",
       "      <td>Home</td>\n",
       "      <td>0.124485</td>\n",
       "      <td>-78.605621</td>\n",
       "    </tr>\n",
       "    <tr>\n",
       "      <th>7</th>\n",
       "      <td>0JP29SK</td>\n",
       "      <td>6</td>\n",
       "      <td>Home</td>\n",
       "      <td>0.123710</td>\n",
       "      <td>0.457748</td>\n",
       "    </tr>\n",
       "    <tr>\n",
       "      <th>9</th>\n",
       "      <td>D1CUMM9</td>\n",
       "      <td>0</td>\n",
       "      <td>Home</td>\n",
       "      <td>-0.090105</td>\n",
       "      <td>-78.580260</td>\n",
       "    </tr>\n",
       "    <tr>\n",
       "      <th>10</th>\n",
       "      <td>D1CUMM9</td>\n",
       "      <td>1</td>\n",
       "      <td>Home</td>\n",
       "      <td>-0.460103</td>\n",
       "      <td>-78.536533</td>\n",
       "    </tr>\n",
       "  </tbody>\n",
       "</table>\n",
       "</div>"
      ],
      "text/plain": [
       "   customer_id  location_number location_type  latitude  longitude\n",
       "1      0JP29SK                0          Home  0.278709 -78.623847\n",
       "2      0JP29SK                1          Home  0.124485 -78.605621\n",
       "7      0JP29SK                6          Home  0.123710   0.457748\n",
       "9      D1CUMM9                0          Home -0.090105 -78.580260\n",
       "10     D1CUMM9                1          Home -0.460103 -78.536533"
      ]
     },
     "execution_count": 311,
     "metadata": {},
     "output_type": "execute_result"
    }
   ],
   "source": [
    "test_locations_df = test_locations_df.dropna()\n",
    "test_locations_df.head()"
   ]
  },
  {
   "cell_type": "code",
   "execution_count": 312,
   "metadata": {},
   "outputs": [],
   "source": [
    "test_locations_df[\"cluster_label\"] = knn.predict(\n",
    "    test_locations_df[[\"latitude\", \"longitude\"]]\n",
    ")"
   ]
  },
  {
   "cell_type": "code",
   "execution_count": 313,
   "metadata": {},
   "outputs": [
    {
     "data": {
      "text/html": [
       "<div>\n",
       "<style scoped>\n",
       "    .dataframe tbody tr th:only-of-type {\n",
       "        vertical-align: middle;\n",
       "    }\n",
       "\n",
       "    .dataframe tbody tr th {\n",
       "        vertical-align: top;\n",
       "    }\n",
       "\n",
       "    .dataframe thead th {\n",
       "        text-align: right;\n",
       "    }\n",
       "</style>\n",
       "<table border=\"1\" class=\"dataframe\">\n",
       "  <thead>\n",
       "    <tr style=\"text-align: right;\">\n",
       "      <th></th>\n",
       "      <th>customer_id</th>\n",
       "      <th>location_number</th>\n",
       "      <th>location_type</th>\n",
       "      <th>latitude</th>\n",
       "      <th>longitude</th>\n",
       "      <th>cluster_label</th>\n",
       "    </tr>\n",
       "  </thead>\n",
       "  <tbody>\n",
       "    <tr>\n",
       "      <th>1</th>\n",
       "      <td>0JP29SK</td>\n",
       "      <td>0</td>\n",
       "      <td>Home</td>\n",
       "      <td>0.278709</td>\n",
       "      <td>-78.623847</td>\n",
       "      <td>1</td>\n",
       "    </tr>\n",
       "    <tr>\n",
       "      <th>2</th>\n",
       "      <td>0JP29SK</td>\n",
       "      <td>1</td>\n",
       "      <td>Home</td>\n",
       "      <td>0.124485</td>\n",
       "      <td>-78.605621</td>\n",
       "      <td>1</td>\n",
       "    </tr>\n",
       "    <tr>\n",
       "      <th>7</th>\n",
       "      <td>0JP29SK</td>\n",
       "      <td>6</td>\n",
       "      <td>Home</td>\n",
       "      <td>0.123710</td>\n",
       "      <td>0.457748</td>\n",
       "      <td>0</td>\n",
       "    </tr>\n",
       "    <tr>\n",
       "      <th>9</th>\n",
       "      <td>D1CUMM9</td>\n",
       "      <td>0</td>\n",
       "      <td>Home</td>\n",
       "      <td>-0.090105</td>\n",
       "      <td>-78.580260</td>\n",
       "      <td>1</td>\n",
       "    </tr>\n",
       "    <tr>\n",
       "      <th>10</th>\n",
       "      <td>D1CUMM9</td>\n",
       "      <td>1</td>\n",
       "      <td>Home</td>\n",
       "      <td>-0.460103</td>\n",
       "      <td>-78.536533</td>\n",
       "      <td>1</td>\n",
       "    </tr>\n",
       "  </tbody>\n",
       "</table>\n",
       "</div>"
      ],
      "text/plain": [
       "   customer_id  location_number location_type  latitude  longitude  \\\n",
       "1      0JP29SK                0          Home  0.278709 -78.623847   \n",
       "2      0JP29SK                1          Home  0.124485 -78.605621   \n",
       "7      0JP29SK                6          Home  0.123710   0.457748   \n",
       "9      D1CUMM9                0          Home -0.090105 -78.580260   \n",
       "10     D1CUMM9                1          Home -0.460103 -78.536533   \n",
       "\n",
       "    cluster_label  \n",
       "1               1  \n",
       "2               1  \n",
       "7               0  \n",
       "9               1  \n",
       "10              1  "
      ]
     },
     "execution_count": 313,
     "metadata": {},
     "output_type": "execute_result"
    }
   ],
   "source": [
    "test_locations_df.head()"
   ]
  },
  {
   "attachments": {},
   "cell_type": "markdown",
   "metadata": {},
   "source": [
    "Faire en sorte de recommander selon le cluster des `customer_id`:"
   ]
  },
  {
   "cell_type": "code",
   "execution_count": 315,
   "metadata": {},
   "outputs": [
    {
     "data": {
      "text/plain": [
       "array([[113.        ,   4.36900194],\n",
       "       [195.        ,   4.60990481],\n",
       "       [225.        ,   4.89424133],\n",
       "       [299.        ,   3.9169116 ],\n",
       "       [ 33.        ,   3.91754552]])"
      ]
     },
     "execution_count": 315,
     "metadata": {},
     "output_type": "execute_result"
    }
   ],
   "source": [
    "from functools import partial\n",
    "\n",
    "\n",
    "def get_restaurant_suggestion(\n",
    "    test_locations_df, cluster_label, recommandation_with_cluster, min_rating=3.9\n",
    "):\n",
    "    df = recommandation_with_cluster[\n",
    "        (recommandation_with_cluster[\"cluster_label\"] == cluster_label)\n",
    "    ]\n",
    "    df = df.groupby(\"recommanded_vendor\")[[\"rating\"]].mean()\n",
    "    df = df[df[\"rating\"] >= min_rating]\n",
    "    df = df.reset_index()\n",
    "    df[\"recommanded_vendor\"] = df[\"recommanded_vendor\"].astype(int)\n",
    "    return df.values[:5]\n",
    "\n",
    "\n",
    "suggestions_func = partial(\n",
    "    get_restaurant_suggestion,\n",
    "    test_locations_df=test_locations_df,\n",
    "    recommandation_with_cluster=recommandation_with_cluster,\n",
    ")\n",
    "suggestions_func(cluster_label=1)"
   ]
  },
  {
   "cell_type": "code",
   "execution_count": 316,
   "metadata": {},
   "outputs": [],
   "source": [
    "u = lambda row: suggestions_func(cluster_label=row[\"cluster_label\"])"
   ]
  },
  {
   "cell_type": "code",
   "execution_count": null,
   "metadata": {},
   "outputs": [],
   "source": [
    "test_locations_df[\"recommandations_list\"] = test_locations_df.apply(u, axis=1)"
   ]
  },
  {
   "cell_type": "code",
   "execution_count": 319,
   "metadata": {},
   "outputs": [
    {
     "data": {
      "text/plain": [
       "9070"
      ]
     },
     "execution_count": 319,
     "metadata": {},
     "output_type": "execute_result"
    }
   ],
   "source": [
    "len(test_locations_df)"
   ]
  },
  {
   "cell_type": "code",
   "execution_count": 296,
   "metadata": {},
   "outputs": [],
   "source": [
    "test_locations_df = test_locations_df.explode(\"recommandations_list\")"
   ]
  },
  {
   "cell_type": "code",
   "execution_count": 298,
   "metadata": {},
   "outputs": [],
   "source": [
    "test_locations_df[\"vendor_id\"] = test_locations_df[\"recommandations_list\"].apply(\n",
    "    lambda x: x[0]\n",
    ")"
   ]
  },
  {
   "cell_type": "code",
   "execution_count": null,
   "metadata": {},
   "outputs": [],
   "source": [
    "test_locations_df[\"CID X LOC_NUM X VENDOR\"] = (\n",
    "    test_locations_df[\"customer_id\"]\n",
    "    + \" X \"\n",
    "    + test_locations_df[\"location_number\"].astype(str)\n",
    "    + \" X \"\n",
    "    + test_locations_df[\"vendor_id\"].astype(int).astype(str)\n",
    ")\n",
    "test_locations_df[\"target\"] = 1\n",
    "submission_df = test_locations_df[[\"CID X LOC_NUM X VENDOR\", \"target\"]]"
   ]
  },
  {
   "cell_type": "code",
   "execution_count": 321,
   "metadata": {},
   "outputs": [],
   "source": [
    "submission_df.to_csv(os.path.join(DATA_DIRECTORY, \"SampleSubmission.csv\"))"
   ]
  }
 ],
 "metadata": {
  "kernelspec": {
   "display_name": "Python 3.10.9 64-bit",
   "language": "python",
   "name": "python3"
  },
  "language_info": {
   "codemirror_mode": {
    "name": "ipython",
    "version": 3
   },
   "file_extension": ".py",
   "mimetype": "text/x-python",
   "name": "python",
   "nbconvert_exporter": "python",
   "pygments_lexer": "ipython3",
   "version": "3.10.6"
  },
  "orig_nbformat": 4,
  "vscode": {
   "interpreter": {
    "hash": "520e995520d0f28b9f1e7cacfd9ba1493aa60b57e5f0cc1543205df7dd9220a2"
   }
  }
 },
 "nbformat": 4,
 "nbformat_minor": 2
}
